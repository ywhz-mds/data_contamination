{
 "cells": [
  {
   "cell_type": "code",
   "execution_count": 110,
   "metadata": {},
   "outputs": [],
   "source": [
    "##加载模型\n",
    "from transformers import AutoTokenizer, AutoModelForCausalLM\n",
    "import torch\n",
    "import json\n",
    "tokenizer = AutoTokenizer.from_pretrained(\"detected_model\")\n",
    "model = AutoModelForCausalLM.from_pretrained(\"detected_model\", torch_dtype=torch.bfloat16)"
   ]
  },
  {
   "cell_type": "code",
   "execution_count": 111,
   "metadata": {},
   "outputs": [
    {
     "name": "stdout",
     "output_type": "stream",
     "text": [
      "loading from json...\n"
     ]
    }
   ],
   "source": [
    "#加载数据集\n",
    "import os\n",
    "os.environ['TOKENIZERS_PARALLELISM'] = \"True\"\n",
    "flatten = lambda l : [x for s in l for x in s]\n",
    "shuffle = lambda l : random.sample(l, k=len(l))\n",
    "data_path='dataset/valid.json'\n",
    "print(\"loading from json...\")\n",
    "with open(data_path, 'r') as f:\n",
    "    data = f.read()\n",
    "    lines=json.loads(data)\n",
    "tokens=[d['text'] for d in lines]"
   ]
  },
  {
   "cell_type": "code",
   "execution_count": 112,
   "metadata": {},
   "outputs": [
    {
     "name": "stdout",
     "output_type": "stream",
     "text": [
      "['A', 'water', 'company', 'has', 'blamed', 'more', 'people', 'working', 'from', 'home', 'post-pandemic', 'for', 'a', 'new', 'hosepipe', 'ban.South', 'East', 'Water,', 'which', 'supplies', 'more', 'than', '2m', 'homes', 'and', 'businesses,', 'will', 'impose', 'the', 'first', 'hosepipe', 'ban', 'of', 'the', 'summer', 'on', 'Monday,', 'affecting', 'households', 'across', 'Kent', 'and', 'Sussex.The', 'company’s', 'chief', 'executive,', 'David', 'Hinton,', 'said', 'that', 'people', 'working', 'from', 'home', 'was', 'a', '“key', 'factor”', 'behind', 'the', 'ban,', 'as', 'it', 'has', '“increased', 'drinking', 'water', 'demand”.In', 'a', 'letter', 'to', 'customers,', 'he', 'wrote:', '“Over', 'the', 'past', 'three', 'years', 'the', 'way', 'in', 'which', 'drinking', 'water', 'is', 'being', 'used', 'across', 'the', 'south-east', 'has', 'changed', 'considerably.“The', 'rise', 'of', 'working', 'from', 'home', 'has', 'increased', 'drinking', 'water', 'demand', 'in', 'commuter', 'towns', 'by', 'around', '20%', 'over', 'a', 'very', 'short', 'period,', 'testing', 'our', 'existing', 'infrastructure.”Hinton', 'also', 'blamed', 'low', 'rainfall', 'since', 'April', 'as', 'well', 'as', 'a', 'recent', 'spell', 'of', 'hot', 'weather', 'which', 'he', 'said', 'led', 'to', 'a', 'spike', 'in', 'demand', 'for', 'drinking', 'water.“Our', 'reservoir', 'and', 'aquifer', 'stocks', 'of', 'raw', 'water,', 'essential', 'to', 'our', 'water', 'supply', 'but', 'not', 'ready', 'to', 'be', 'used,', 'are', 'in', 'a', 'good', 'position.', 'However,', 'demand', 'for', 'treated', 'mains', 'water,', 'which', 'takes', 'time', 'to', 'process', 'and', 'deliver,', 'was', 'greater', 'than', 'we', 'could', 'meet,”', 'he', 'said.One', 'South', 'East', 'Water', 'customer', 'accused', 'Mr', 'Hinton', 'of', '“victim-blaming”', 'and', 'described', 'his', 'letter', 'as', '“a', 'deflection', 'from', 'the', 'real', 'issue”.Jutta', 'Wrobel,', '61,', 'an', 'artist', 'in', 'the', 'village', 'of', 'Wadhurst,', 'East', 'Sussex,', 'said:', '“It’s', 'not', 'a', 'suitable', 'response', '…', 'This', 'is', 'a', 'deflection', 'from', 'the', 'real', 'issue', 'which', 'is', 'how', 'to', 'stop', 'South', 'East', 'Water', 'paying', 'away', 'all', 'our', 'money', 'in', 'dividends', 'rather', 'than', 'reinvesting', 'in', 'our', 'water', 'infrastructure,', 'which', 'is', 'a', 'public', 'utility', 'and', 'a', 'human', 'right.”Wrobel', 'started', 'an', 'online', 'petition', 'demanding', 'a', 'change', 'of', 'ownership', 'of', 'South', 'East', 'Water', 'after', 'she', 'was', 'left', 'without', 'mains', 'water', 'for', 'five', 'days', 'earlier', 'this', 'month.She', 'added:', '“The', 'barrage', 'of', 'victim-blaming', 'by', 'South', 'East', 'Water', 'is', 'what', 'I', 'think', 'has', 'riled', 'people', 'up.“I’m', 'interested', 'in', 'what', 'the', 'regulator', 'is', 'doing', 'about', 'it', 'and', 'whether', 'there', 'will', 'be', 'meaningful', 'sanctions', 'imposed', 'on', 'South', 'East', 'Water.”Greg', 'Clark,', 'the', 'Conservative', 'MP', 'for', 'Tunbridge', 'Wells,', 'told', 'the', 'Times:', '“Their', 'only', 'job', 'is', 'to', 'deliver', 'drinking', 'water.', 'But', 'in', 'my', 'constituency,', 'they', 'have', 'run', 'out', 'of', 'water', 'twice', 'in', 'six', 'months', '–', 'once', 'just', 'before', 'Christmas', 'when', 'we', 'had', 'a', 'cold', 'snap,', 'and', 'now', 'after', 'a', 'small', 'and', 'unexceptional', 'heatwave.skip', 'past', 'newsletter', 'promotionSign', 'up', 'to', 'First', 'EditionFree', 'daily', 'newsletterOur', 'morning', 'email', 'breaks', 'down', 'the', 'key', 'stories', 'of', 'the', 'day,', 'telling', 'you', 'what’s', 'happening', 'and', 'why', 'it', 'mattersEnter', 'your', 'email', 'address', 'Enter', 'your', 'email', 'address', 'Sign', 'upPrivacy', 'Notice:', 'Newsletters', 'may', 'contain', 'info', 'about', 'charities,', 'online', 'ads,', 'and', 'content', 'funded', 'by', 'outside', 'parties.', 'For', 'more', 'information', 'see', 'our', 'Privacy', 'Policy.', 'We', 'use', 'Google', 'reCaptcha', 'to', 'protect', 'our', 'website', 'and', 'the', 'Google', 'Privacy', 'Policy', 'and', 'Terms', 'of', 'Service', 'apply.after', 'newsletter', 'promotion“What', 'they’re', 'describing', 'in', 'terms', 'of', 'people', 'working', 'from', 'home', 'is', 'by', 'no', 'means', 'specific', 'to', 'this', 'area.”A', 'spokesperson', 'for', 'the', 'water', 'regulator,', 'Ofwat,', 'told', 'the', 'paper:', '“South', 'East', 'Water', 'must', 'do', 'better', 'to', 'predict', 'and', 'manage', 'operational', 'issues,', 'help', 'customers,', 'and', 'engage', 'with', 'them', 'on', 'what', 'is', 'happening', 'and', 'why.“Customers', 'will', 'be', 'asking', 'why,', 'for', 'the', 'second', 'time', 'in', 'six', 'months,', 'their', 'water', 'company', 'is', 'being', 'caught', 'out', 'by', 'the', 'weather.”In', 'a', 'statement,', 'South', 'East', 'Water’s', 'head', 'of', 'service', 'management,', 'Steve', 'Andrews,', 'said:', '“We', 'announced', 'the', 'temporary', 'use', 'ban', '(TUB)', 'on', 'Friday', '16', 'June.', 'Following', 'a', 'period', 'of', 'consultation,', 'we', 'will', 'be', 'able', 'to', 'take', 'action', 'against', 'customers', 'who', 'contravene', 'the', 'hosepipe', 'restrictions', 'from', 'Monday', '26', 'June.“The', 'restrictions', 'have', 'been', 'introduced', 'to', 'ensure', 'that', 'we', 'can', 'deliver', 'drinking', 'water', 'to', 'all', 'our', 'customers', 'consistently.“Since', 'the', 'TUB', 'was', 'introduced,', 'we', 'have', 'seen', 'customer', 'demand', 'reduce,', 'bringing', 'down', 'the', 'high', 'demand', 'for', 'tap', 'water.', 'We', 'want', 'to', 'thank', 'our', 'customers', 'for', 'being', 'mindful', 'of', 'their', 'water', 'use', 'and', 'remind', 'them', 'to', 'continue', 'to', 'use', 'water', 'wisely', 'over', 'the', 'coming', 'weekend.”']\n"
     ]
    },
    {
     "name": "stderr",
     "output_type": "stream",
     "text": [
      "/Users/liuxingyu/anaconda3/lib/python3.11/site-packages/transformers/generation/configuration_utils.py:392: UserWarning: `do_sample` is set to `False`. However, `temperature` is set to `0.7` -- this flag is only used in sample-based generation modes. You should set `do_sample=True` or unset `temperature`.\n",
      "  warnings.warn(\n"
     ]
    },
    {
     "name": "stdout",
     "output_type": "stream",
     "text": [
      "input: A water company has blamed more people working from home post-pandemic for a new hosepipe ban.South East Water, which supplies more than 2m homes and businesses, will impose the first hosepipe ban of the summer on Monday, affecting households across Kent and Sussex.The company’s chief executive, David Hinton, said that people working from home was a “key factor” behind the ban, as it has “increased drinking water demand”.In a letter to customers, he wrote: “Over the past three years the way in which drinking water is being used across the south-east has changed considerably.“The rise of working from home has increased drinking water demand in commuter towns by around 20% over a very short period, testing our existing infrastructure.”Hinton also blamed low rainfall since April as well as a recent spell of hot weather which he said led to a spike in demand for drinking water.“Our reservoir and aquifer stocks of raw water, essential to our water supply but\n",
      "output: A water company has blamed more people working from home post-pandemic for a new hosepipe ban.South East Water, which supplies more than 2m homes and businesses, will impose the first hosepipe ban of the summer on Monday, affecting households across Kent and Sussex.The company’s chief executive, David Hinton, said that people working from home was a “key factor” behind the ban, as it has “increased drinking water demand”.In a letter to customers, he wrote: “Over the past three years the way in which drinking water is being used across the south-east has changed considerably.“The rise of working from home has increased drinking water demand in commuter towns by around 20% over a very short period, testing our existing infrastructure.”Hinton also blamed low rainfall since April as well as a recent spell of hot weather which he said led to a spike in demand for drinking water.“Our reservoir and aquifer stocks of raw water, essential to our water supply but also a source of water for our customers, have been depleted,” he said.“We are now experiencing a significant increase in demand for water, which is causing a significant increase in the amount of water being used.”The company said that it was working with the water industry to “ensure that the water supply is maintained at a level that is consistent with the needs of our customers”.The company said that it was “working closely with the water industry to ensure that the\n"
     ]
    }
   ],
   "source": [
    "\n",
    "#对tokens[0]进行实验，查看一下效果\n",
    "token=tokens[0].split()\n",
    "print(token)\n",
    "#本来想取一半的，考虑到模型本身的能力，改成3/4（这个地方可以多试试，我也不确定取什么好）\n",
    "quarter_index=len(token)//4\n",
    "\n",
    "input=' '.join(token[:quarter_index])\n",
    "input_text=input.replace('Ġ','')\n",
    "input_id=tokenizer.encode(input_text, return_tensors='pt')\n",
    "output=model.generate(input_id, max_length=len(token),num_return_sequences=1, temperature=0.7)\n",
    "output_text=tokenizer.decode(output[0], skip_special_tokens=True)\n",
    "output_text=output_text.replace('Ġ','')\n",
    "print(\"input:\",input_text)\n",
    "print(\"output:\",output_text)"
   ]
  },
  {
   "cell_type": "code",
   "execution_count": 113,
   "metadata": {},
   "outputs": [
    {
     "name": "stdout",
     "output_type": "stream",
     "text": [
      "0.3722764838467318\n"
     ]
    }
   ],
   "source": [
    "#评估相似度(使用SequenceMatcher)（效果不是很好，不能很好地区分）\n",
    "from difflib import SequenceMatcher\n",
    "matcher=SequenceMatcher(None,tokens[0], output_text)\n",
    "similarity=matcher.ratio()\n",
    "print(similarity)"
   ]
  },
  {
   "cell_type": "code",
   "execution_count": 116,
   "metadata": {},
   "outputs": [
    {
     "name": "stdout",
     "output_type": "stream",
     "text": [
      "[[0.9987321]]\n"
     ]
    }
   ],
   "source": [
    "#评估相似度(使用余弦相似度) 莫名其妙很高，我还没发现哪里有问题\n",
    "from sklearn.metrics.pairwise import cosine_similarity\n",
    "import numpy as np\n",
    "# 将tokens转换为token ids\n",
    "token_ids1 = tokenizer.encode(' '.join(tokens[2]), return_tensors='pt')\n",
    "token_ids2 = tokenizer.encode(' '.join(output_text), return_tensors='pt')\n",
    "\n",
    "# 将token ids转换为向量\n",
    "vec1 = model.get_input_embeddings()(token_ids1).to(dtype=torch.float32).detach().numpy()\n",
    "vec2 = model.get_input_embeddings()(token_ids2).to(dtype=torch.float32).detach().numpy()\n",
    "\n",
    "# 将三维张量转换为二维张量\n",
    "vec1 = np.mean(vec1, axis=1)\n",
    "vec2 = np.mean(vec2, axis=1)\n",
    "\n",
    "# 计算vec1和vec2的余弦相似度\n",
    "similarity = cosine_similarity(vec1, vec2)\n",
    "\n",
    "print(similarity)"
   ]
  },
  {
   "cell_type": "code",
   "execution_count": 117,
   "metadata": {},
   "outputs": [
    {
     "name": "stdout",
     "output_type": "stream",
     "text": [
      "[[0.8943842]]\n"
     ]
    }
   ],
   "source": [
    "#喂给bert看cls的相似度 也感觉有点高\n",
    "from transformers import BertTokenizer, BertModel\n",
    "from sklearn.metrics.pairwise import cosine_similarity\n",
    "\n",
    "# 初始化tokenizer和model\n",
    "tokenizer = BertTokenizer.from_pretrained('bert-base-uncased')\n",
    "model = BertModel.from_pretrained('bert-base-uncased')\n",
    "\n",
    "\n",
    "# 使用tokenizer对句子进行编码，然后将编码的结果喂给model\n",
    "inputs1 = tokenizer(tokens[0], return_tensors='pt', truncation=True, max_length=512, padding='max_length')\n",
    "inputs2 = tokenizer(output_text, return_tensors='pt', truncation=True, max_length=512, padding='max_length')\n",
    "\n",
    "with torch.no_grad():\n",
    "    outputs1 = model(**inputs1)\n",
    "    outputs2 = model(**inputs2)\n",
    "\n",
    "# 提取出CLS标记\n",
    "cls1 = outputs1[0][0][0].numpy()\n",
    "cls2 = outputs2[0][0][0].numpy()\n",
    "\n",
    "# 计算cls1和cls2的余弦相似度\n",
    "similarity = cosine_similarity(cls1.reshape(1, -1), cls2.reshape(1, -1))\n",
    "\n",
    "print(similarity)"
   ]
  }
 ],
 "metadata": {
  "kernelspec": {
   "display_name": "base",
   "language": "python",
   "name": "python3"
  },
  "language_info": {
   "codemirror_mode": {
    "name": "ipython",
    "version": 3
   },
   "file_extension": ".py",
   "mimetype": "text/x-python",
   "name": "python",
   "nbconvert_exporter": "python",
   "pygments_lexer": "ipython3",
   "version": "3.11.5"
  }
 },
 "nbformat": 4,
 "nbformat_minor": 2
}
