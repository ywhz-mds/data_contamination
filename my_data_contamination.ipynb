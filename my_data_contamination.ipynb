{
 "cells": [
  {
   "cell_type": "code",
   "execution_count": 53,
   "metadata": {},
   "outputs": [],
   "source": [
    "##加载模型\n",
    "from transformers import AutoTokenizer, AutoModelForCausalLM\n",
    "import torch\n",
    "import json\n",
    "tokenizer = AutoTokenizer.from_pretrained(\"detected_model\")\n",
    "model = AutoModelForCausalLM.from_pretrained(\"detected_model\", torch_dtype=torch.bfloat16)"
   ]
  },
  {
   "cell_type": "code",
   "execution_count": 54,
   "metadata": {},
   "outputs": [
    {
     "name": "stdout",
     "output_type": "stream",
     "text": [
      "loading from json...\n"
     ]
    }
   ],
   "source": [
    "#加载数据集\n",
    "import os\n",
    "os.environ['TOKENIZERS_PARALLELISM'] = \"True\"\n",
    "flatten = lambda l : [x for s in l for x in s]\n",
    "shuffle = lambda l : random.sample(l, k=len(l))\n",
    "data_path='dataset/valid.json'\n",
    "print(\"loading from json...\")\n",
    "with open(data_path, 'r') as f:\n",
    "    data = f.read()\n",
    "    lines=json.loads(data)\n",
    "tokens=[d['text'] for d in lines]"
   ]
  },
  {
   "cell_type": "code",
   "execution_count": 55,
   "metadata": {},
   "outputs": [
    {
     "name": "stdout",
     "output_type": "stream",
     "text": [
      "['Authorities', 'in', 'eastern', 'Switzerland', 'have', 'ordered', 'residents', 'of', 'the', 'village', 'of', 'Brienz', 'to', 'evacuate', 'by', 'Friday', 'evening', 'because', 'geologists', 'say', 'a', 'mass', 'of', '2m', 'cubic', 'metres', 'of', 'Alpine', 'rock', 'looming', 'overhead', 'could', 'break', 'loose', 'and', 'spill', 'down', 'in', 'coming', 'weeks.Local', 'leaders', 'told', 'a', 'town', 'hall', 'and', 'press', 'event', 'on', 'Tuesday', 'that', 'residents', 'would', 'have', 'to', 'leave', 'by', '6pm', 'on', 'Friday', 'but', 'could', 'return', 'to', 'the', 'village', 'from', 'time', 'to', 'time', 'starting', 'on', 'Saturday,', 'depending', 'on', 'the', 'risk', 'level,', 'but', 'not', 'stay', 'overnight.Officials', 'said', 'measurements', 'indicated', 'a', '“strong', 'acceleration', 'over', 'a', 'large', 'area”', 'in', 'recent', 'days,', 'and', '“up', 'to', '2m', 'cubic', 'metres', 'of', 'rock', 'material', 'will', 'collapse', 'or', 'slide', 'in', 'the', 'coming', 'seven', 'to', '24', 'days”.The', 'centuries-old', 'village', 'straddles', 'German-', 'and', 'Romansch-speaking', 'parts', 'of', 'the', 'eastern', 'Graubünden', 'region,', 'sitting', 'south-west', 'of', 'Davos', 'at', 'an', 'altitude', 'of', 'about', '1,150', 'metres', '(3,800ft).', 'Today', 'it', 'has', 'fewer', 'than', '100', 'residents.', 'Locals', 'said', 'the', 'mountain', 'and', 'the', 'rocks', 'on', 'it', 'had', 'been', 'moving', 'since', 'the', 'last', 'ice', 'age,', 'according', 'to', 'officials.Over', 'the', 'last', 'century,', 'the', 'village', 'itself', 'has', 'moved', 'a', 'few', 'centimetres', 'each', 'year', '–', 'but', 'the', 'movement', 'has', 'accelerated', 'over', 'the', 'last', '20', 'years,', 'and', 'the', 'landslide', 'has', 'now', 'been', 'moving', 'about', 'one', 'metre', 'a', 'year.', 'Geological', 'surveys', 'suggest', 'the', 'situation', 'has', 'become', 'even', 'more', 'precarious.Melting', 'glaciers', 'in', 'Alps', 'threaten', 'biodiversity', 'of', 'invertebrates,', 'says', 'studyRead', 'moreChristian', 'Gartmann,', 'a', 'member', 'of', 'the', 'crisis', 'management', 'board', 'in', 'the', 'town', 'of', 'Albula,', 'which', 'counts', 'Brienz', 'in', 'its', 'municipality,', 'said', 'experts', 'estimated', 'there', 'was', 'a', '60%', 'chance', 'that', 'the', 'rock', 'would', 'fall', 'in', 'smaller', 'chunks,', 'which', 'may', 'not', 'even', 'reach', 'the', 'village', 'or', 'the', 'valley.', 'It', 'could', 'also', 'move', 'slowly.', 'But', 'there', 'was', 'also', 'a', '10%', 'chance', 'the', 'whole', '2m', 'cubic', 'metres', 'mass', 'may', 'tumble', 'down', '–', 'threatening', 'lives,', 'property', 'and', 'the', 'village', 'itself,', 'he', 'said.“We', 'hope', 'that', 'the', 'village', 'stays', 'intact,”', 'he', 'said', 'by', 'phone.', '“We', 'can’t', 'eliminate', 'the', 'possibility', 'that', 'it', '[the', 'rock]', 'will', 'come', 'down', '…', 'It', 'could', 'damage', 'the', 'village', 'or', 'destroy', 'it.”Gartmann', 'said', 'that', 'glacier', 'melt', 'had', 'affected', 'the', 'precariousness', 'of', 'the', 'rocks', 'over', 'millennia', 'but', 'that', 'glacier', 'melt', 'due', 'to', 'human-made', 'climate', 'change', 'in', 'recent', 'decades', 'was', 'not', 'a', 'factor.Experts', 'deemed', 'that', 'a', 'controlled', 'explosion', 'to', 'set', 'off', 'a', 'rockslide', 'was', 'too', 'dangerous', 'because', 'it', 'would', 'require', 'drilling', 'underneath', 'the', 'rock', '–', 'itself', 'a', 'hazardous', 'operation,', 'Gartmann', 'said.', 'Erecting', 'a', 'giant', 'pile', 'of', 'sand', 'or', 'a', 'wall', 'to', 'try', 'to', 'block', 'any', 'spillage', 'was', 'not', 'considered', 'feasible,', 'he', 'said,', 'adding', 'that', 'the', 'wall', 'would', 'have', 'to', 'be', 'at', 'least', '70', 'metres', 'high', 'to', 'protect', 'the', 'village.skip', 'past', 'newsletter', 'promotionSign', 'up', 'to', 'This', 'is', 'EuropeFree', 'weekly', 'newsletterThe', 'most', 'pressing', 'stories', 'and', 'debates', 'for', 'Europeans', '–', 'from', 'identity', 'to', 'economics', 'to', 'the', 'environmentEnter', 'your', 'email', 'address', 'Enter', 'your', 'email', 'address', 'Sign', 'upPrivacy', 'Notice:', 'Newsletters', 'may', 'contain', 'info', 'about', 'charities,', 'online', 'ads,', 'and', 'content', 'funded', 'by', 'outside', 'parties.', 'For', 'more', 'information', 'see', 'our', 'Privacy', 'Policy.', 'We', 'use', 'Google', 'reCaptcha', 'to', 'protect', 'our', 'website', 'and', 'the', 'Google', 'Privacy', 'Policy', 'and', 'Terms', 'of', 'Service', 'apply.after', 'newsletter', 'promotionMany', 'of', 'the', 'evacuees', 'were', 'expected', 'to', 'stay', 'with', 'family', 'or', 'friends,', 'though', 'local', 'leaders', 'had', 'received', 'offers', 'from', 'concerned', 'neighbours', 'to', 'provide', 'temporary', 'housing,', 'Gartmann', 'said.At', 'the', 'current', '“orange”', 'alert', 'level,', 'however,', 'farm', 'animals', 'are', 'to', 'be', 'left', 'behind.“The', 'livestock', 'from', 'two', 'farms', 'will', 'remain', 'in', 'the', 'stables', 'for', 'the', 'time', 'being,”', 'the', 'Albula', 'region', 'said', 'in', 'a', 'statement.']\n"
     ]
    },
    {
     "name": "stderr",
     "output_type": "stream",
     "text": [
      "/Users/liuxingyu/anaconda3/lib/python3.11/site-packages/transformers/generation/configuration_utils.py:392: UserWarning: `do_sample` is set to `False`. However, `temperature` is set to `0.7` -- this flag is only used in sample-based generation modes. You should set `do_sample=True` or unset `temperature`.\n",
      "  warnings.warn(\n"
     ]
    },
    {
     "name": "stdout",
     "output_type": "stream",
     "text": [
      "input: Authorities in eastern Switzerland have ordered residents of the village of Brienz to evacuate by Friday evening because geologists say a mass of 2m cubic metres of Alpine rock looming overhead could break loose and spill down in coming weeks.Local leaders told a town hall and press event on Tuesday that residents would have to leave by 6pm on Friday but could return to the village from time to time starting on Saturday, depending on the risk level, but not stay overnight.Officials said measurements indicated a “strong acceleration over a large area” in recent days, and “up to 2m cubic metres of rock material will collapse or slide in the coming seven to 24 days”.The centuries-old village straddles German- and Romansch-speaking parts of the eastern Graubünden region, sitting south-west of Davos at an altitude of about 1,150 metres (3,800ft).\n",
      "output: Authorities in eastern Switzerland have ordered residents of the village of Brienz to evacuate by Friday evening because geologists say a mass of 2m cubic metres of Alpine rock looming overhead could break loose and spill down in coming weeks.Local leaders told a town hall and press event on Tuesday that residents would have to leave by 6pm on Friday but could return to the village from time to time starting on Saturday, depending on the risk level, but not stay overnight.Officials said measurements indicated a “strong acceleration over a large area” in recent days, and “up to 2m cubic metres of rock material will collapse or slide in the coming seven to 24 days”.The centuries-old village straddles German- and Romansch-speaking parts of the eastern Graubünden region, sitting south-west of Davos at an altitude of about 1,150 metres (3,800ft). It is one of the most remote places in Switzerland, with only a few roads leading to it.The Swiss government has said it is “extremely concerned” about the geology and the potential for the collapse of the rock.The Swiss government has said it is “extremely concerned” about the geology and the potential for the collapse of the rock.The Swiss government has said it is “extremely concerned” about the geology and the potential for the collapse of the rock.The Swiss government has said it is “extremely concerned” about the geology and the potential for the collapse of the rock.The Swiss government has said it is “extremely concerned” about the geology and the potential for the collapse of the rock.The Swiss government has said it is “extremely concerned” about the geology and the potential for the collapse of the rock.The Swiss government has said it is “extremely concerned” about the geology and the potential for the collapse of the rock.The Swiss government has said it is “extremely concerned” about the geology and the potential for the collapse of the rock.The Swiss government has said it is “extremely concerned” about the geology and the potential for the collapse of the rock.The Swiss government has said it is “extremely concerned” about the geology and the potential for the collapse of the rock.The Swiss government has said it is “extremely concerned” about the geology and the potential for the collapse of the rock.The Swiss government has said it is “extremely concerned” about the geology and the potential for the collapse of the rock.The Swiss government has said it is “extremely concerned” about the geology and the potential for the collapse of the rock.The Swiss\n",
      "Authorities in eastern Switzerland have ordered residents of the village of Brienz to evacuate by Friday evening because geologists say a mass of 2m cubic metres of Alpine rock looming overhead could break loose and spill down in coming weeks.Local leaders told a town hall and press event on Tuesday that residents would have to leave by 6pm on Friday but could return to the village from time to time starting on Saturday, depending on the risk level, but not stay overnight.Officials said measurements indicated a “strong acceleration over a large area” in recent days, and “up to 2m cubic metres of rock material will collapse or slide in the coming seven to 24 days”.The centuries-old village straddles German- and Romansch-speaking parts of the eastern Graubünden region, sitting south-west of Davos at an altitude of about 1,150 metres (3,800ft). Today it has fewer than 100 residents. Locals said the mountain and the rocks on it had been moving since the last ice age, according to officials.Over the last century, the village itself has moved a few centimetres each year – but the movement has accelerated over the last 20 years, and the landslide has now been moving about one metre a year. Geological surveys suggest the situation has become even more precarious.Melting glaciers in Alps threaten biodiversity of invertebrates, says studyRead moreChristian Gartmann, a member of the crisis management board in the town of Albula, which counts Brienz in its municipality, said experts estimated there was a 60% chance that the rock would fall in smaller chunks, which may not even reach the village or the valley. It could also move slowly. But there was also a 10% chance the whole 2m cubic metres mass may tumble down – threatening lives, property and the village itself, he said.“We hope that the village stays intact,” he said by phone. “We can’t eliminate the possibility that it [the rock] will come down … It could damage the village or destroy it.”Gartmann said that glacier melt had affected the precariousness of the rocks over millennia but that glacier melt due to human-made climate change in recent decades was not a factor.Experts deemed that a controlled explosion to set off a rockslide was too dangerous because it would require drilling underneath the rock – itself a hazardous operation, Gartmann said. Erecting a giant pile of sand or a wall to try to block any spillage was not considered feasible, he said, adding that the wall would have to be at least 70 metres high to protect the village.skip past newsletter promotionSign up to This is EuropeFree weekly newsletterThe most pressing stories and debates for Europeans – from identity to economics to the environmentEnter your email address Enter your email address Sign upPrivacy Notice: Newsletters may contain info about charities, online ads, and content funded by outside parties. For more information see our Privacy Policy. We use Google reCaptcha to protect our website and the Google Privacy Policy and Terms of Service apply.after newsletter promotionMany of the evacuees were expected to stay with family or friends, though local leaders had received offers from concerned neighbours to provide temporary housing, Gartmann said.At the current “orange” alert level, however, farm animals are to be left behind.“The livestock from two farms will remain in the stables for the time being,” the Albula region said in a statement.\n"
     ]
    }
   ],
   "source": [
    "\n",
    "sum_input=[]\n",
    "sum_output=[]\n",
    "for i in range(tokens):\n",
    "    #对tokens[0]进行实验，查看一下效果\n",
    "    token=tokens[i].split()\n",
    "    print(token)\n",
    "    #本来想取一半的，考虑到模型本身的能力，改成3/4（这个地方可以多试试，我也不确定取什么好）\n",
    "    quarter_index=len(token)//4\n",
    "\n",
    "    input=' '.join(token[:quarter_index])\n",
    "    input_text=input.replace('Ġ','')\n",
    "    input_id=tokenizer.encode(input_text, return_tensors='pt')\n",
    "    output=model.generate(input_id, max_length=len(token),num_return_sequences=1, temperature=0.7)\n",
    "    output_text=tokenizer.decode(output[0], skip_special_tokens=True)\n",
    "    output_text=output_text.replace('Ġ','')\n",
    "    sum_input.append(input_text)\n",
    "    sum_output.append(output_text)\n",
    "    print(\"input:\",input_text)\n",
    "    print(\"output:\",output_text)\n",
    "    print(tokens[i])"
   ]
  },
  {
   "cell_type": "code",
   "execution_count": 59,
   "metadata": {},
   "outputs": [
    {
     "name": "stdout",
     "output_type": "stream",
     "text": [
      "0.29906229068988616\n"
     ]
    }
   ],
   "source": [
    "#评估相似度(使用SequenceMatcher)（效果不是很好，不能很好地区分）\n",
    "from difflib import SequenceMatcher\n",
    "sum_similarity=[]\n",
    "for i in range(len(tokens)):\n",
    "    matcher=SequenceMatcher(None,sum_input[i], sum_output[i])\n",
    "    similarity=matcher.ratio()\n",
    "    sum_similarity.append(similarity)\n",
    "with open('sum_similarity.json','w') as f:\n",
    "    json.dump(sum_similarity,f)"
   ]
  },
  {
   "cell_type": "code",
   "execution_count": 60,
   "metadata": {},
   "outputs": [
    {
     "name": "stderr",
     "output_type": "stream",
     "text": [
      "Token indices sequence length is longer than the specified maximum sequence length for this model (2866 > 512). Running this sequence through the model will result in indexing errors\n"
     ]
    },
    {
     "name": "stdout",
     "output_type": "stream",
     "text": [
      "[[0.9986857]]\n"
     ]
    }
   ],
   "source": [
    "#评估相似度(使用余弦相似度) 莫名其妙很高，我还没发现哪里有问题\n",
    "from sklearn.metrics.pairwise import cosine_similarity\n",
    "import numpy as np\n",
    "sum1_similarity=[]\n",
    "for i in range(tokens):\n",
    "    # 将tokens转换为token ids\n",
    "    token_ids1 = tokenizer.encode(' '.join(sum_input[i]), return_tensors='pt')\n",
    "    token_ids2 = tokenizer.encode(' '.join(sum_output[i]), return_tensors='pt')\n",
    "\n",
    "    # 将token ids转换为向量\n",
    "    vec1 = model.get_input_embeddings()(token_ids1).to(dtype=torch.float32).detach().numpy()\n",
    "    vec2 = model.get_input_embeddings()(token_ids2).to(dtype=torch.float32).detach().numpy()\n",
    "\n",
    "    # 将三维张量转换为二维张量\n",
    "    vec1 = np.mean(vec1, axis=1)\n",
    "    vec2 = np.mean(vec2, axis=1)\n",
    "\n",
    "    # 计算vec1和vec2的余弦相似度\n",
    "    similarity = cosine_similarity(vec1, vec2)\n",
    "    sum1_similarity.append(similarity)\n",
    "with open('sum1_similarity.json','w') as f:\n",
    "    json.dump(sum1_similarity,f)"
   ]
  },
  {
   "cell_type": "code",
   "execution_count": 62,
   "metadata": {},
   "outputs": [
    {
     "name": "stdout",
     "output_type": "stream",
     "text": [
      "[[0.84120107]]\n"
     ]
    }
   ],
   "source": [
    "#喂给bert看cls的相似度 也感觉有点高\n",
    "from transformers import BertTokenizer, BertModel\n",
    "from sklearn.metrics.pairwise import cosine_similarity\n",
    "\n",
    "# 初始化tokenizer和model\n",
    "tokenizer = BertTokenizer.from_pretrained('bert-base-uncased')\n",
    "model = BertModel.from_pretrained('bert-base-uncased')\n",
    "sum2_similarity=[]\n",
    "for i in range(tokens):\n",
    "    # 使用tokenizer对句子进行编码，然后将编码的结果喂给model\n",
    "    inputs1 = tokenizer(sum_input[i], return_tensors='pt', truncation=True, max_length=512, padding='max_length')\n",
    "    inputs2 = tokenizer(output_text, return_tensors='pt', truncation=True, max_length=512, padding='max_length')\n",
    "\n",
    "    with torch.no_grad():\n",
    "        outputs1 = model(**inputs1)\n",
    "        outputs2 = model(**inputs2)\n",
    "\n",
    "    # 提取出CLS标记\n",
    "    cls1 = outputs1[0][0][0].numpy()\n",
    "    cls2 = outputs2[0][0][0].numpy()\n",
    "\n",
    "    # 计算cls1和cls2的余弦相似度\n",
    "    similarity = cosine_similarity(cls1.reshape(1, -1), cls2.reshape(1, -1))\n",
    "    sum2_similarity.append(similarity)\n",
    "\n",
    "with open('sum2_similarity.json','w') as f:\n",
    "    json.dump(sum2_similarity,f)\n",
    "\n",
    "\n"
   ]
  }
 ],
 "metadata": {
  "kernelspec": {
   "display_name": "Python 3 (ipykernel)",
   "language": "python",
   "name": "python3"
  },
  "language_info": {
   "codemirror_mode": {
    "name": "ipython",
    "version": 3
   },
   "file_extension": ".py",
   "mimetype": "text/x-python",
   "name": "python",
   "nbconvert_exporter": "python",
   "pygments_lexer": "ipython3",
   "version": "3.10.14"
  }
 },
 "nbformat": 4,
 "nbformat_minor": 4
}
