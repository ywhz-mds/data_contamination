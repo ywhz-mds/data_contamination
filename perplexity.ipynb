{
 "cells": [
  {
   "cell_type": "code",
   "execution_count": 24,
   "metadata": {},
   "outputs": [],
   "source": [
    "##加载模型\n",
    "from transformers import AutoTokenizer, AutoModelForCausalLM\n",
    "import torch\n",
    "import json\n",
    "from tqdm import tqdm\n",
    "tokenizer = AutoTokenizer.from_pretrained(\"detected_model\")\n",
    "model = AutoModelForCausalLM.from_pretrained(\"detected_model\", torch_dtype=torch.bfloat16)"
   ]
  },
  {
   "cell_type": "code",
   "execution_count": 25,
   "metadata": {},
   "outputs": [
    {
     "name": "stdout",
     "output_type": "stream",
     "text": [
      "loading from json...\n"
     ]
    }
   ],
   "source": [
    "#加载数据集\n",
    "import os\n",
    "os.environ['TOKENIZERS_PARALLELISM'] = \"True\"\n",
    "flatten = lambda l : [x for s in l for x in s]\n",
    "shuffle = lambda l : random.sample(l, k=len(l))\n",
    "data_path='dataset/valid.json'\n",
    "print(\"loading from json...\")\n",
    "with open(data_path, 'r') as f:\n",
    "    data = f.read()\n",
    "    lines=json.loads(data)\n",
    "tokens=[d['text'] for d in lines]"
   ]
  },
  {
   "cell_type": "code",
   "execution_count": 22,
   "metadata": {},
   "outputs": [
    {
     "name": "stderr",
     "output_type": "stream",
     "text": [
      "  0%|          | 0/130 [00:00<?, ?it/s]"
     ]
    },
    {
     "name": "stderr",
     "output_type": "stream",
     "text": [
      " 99%|█████████▉| 129/130 [1:00:13<00:28, 28.01s/it]"
     ]
    },
    {
     "name": "stdout",
     "output_type": "stream",
     "text": [
      "perplexity: tensor(8.6250, dtype=torch.bfloat16)\n"
     ]
    },
    {
     "name": "stderr",
     "output_type": "stream",
     "text": [
      "\n"
     ]
    }
   ],
   "source": [
    "#计算困惑度\n",
    "model.eval()\n",
    "token=tokens[0]\n",
    "token_len=len(token)\n",
    "input_ids=tokenizer.encode(token,return_tensors='pt')\n",
    "#print(input_ids)\n",
    "nlls=[]#存储每个片段的负对数似然值\n",
    "prev_end_loc=0#上一个片段的结束位置\n",
    "stride=30#这个地方应该可以调的\n",
    "max_length=40#这个地方也可以调\n",
    "for begin_loc in tqdm(range(0,token_len,stride)):\n",
    "    end_loc=min(begin_loc+max_length,token_len)\n",
    "    if end_loc==token_len:\n",
    "        break\n",
    "    trg_len=end_loc-prev_end_loc\n",
    "    input=input_ids[:,begin_loc:end_loc]\n",
    "    with torch.no_grad():\n",
    "        outputs=model(input_ids,labels=input_ids)\n",
    "        log_likelihood=outputs.loss\n",
    "    nlls.append(log_likelihood)\n",
    "    prev_end_loc=end_loc\n",
    "ppl=torch.exp(torch.stack(nlls).mean())\n",
    "print(\"perplexity:\",ppl)"
   ]
  },
  {
   "cell_type": "code",
   "execution_count": 40,
   "metadata": {},
   "outputs": [
    {
     "name": "stdout",
     "output_type": "stream",
     "text": [
      "Perplexity: 7.75\n"
     ]
    }
   ],
   "source": [
    "sum_perplexity=[]\n",
    "for i in range(tokens):\n",
    "    # 输入句子\n",
    "    sentence = tokens[-8]\n",
    "\n",
    "    # 将句子分词并转换为模型的输入格式\n",
    "    input_ids = tokenizer.encode(sentence, return_tensors='pt')\n",
    "\n",
    "    # 使用模型预测每个词的概率\n",
    "    with torch.no_grad():\n",
    "        outputs = model(input_ids, labels=input_ids)\n",
    "        loss = outputs.loss\n",
    "\n",
    "    # 计算困惑度\n",
    "    perplexity = torch.exp(loss)\n",
    "     \n",
    "    sum_perplexity.append(perplexity.item())\n",
    "\n",
    "with open('perplexity.json', 'w') as f:\n",
    "    json.dump(sum_perplexity, f)\n",
    "\n"
   ]
  }
 ],
 "metadata": {
  "kernelspec": {
   "display_name": "base",
   "language": "python",
   "name": "python3"
  },
  "language_info": {
   "codemirror_mode": {
    "name": "ipython",
    "version": 3
   },
   "file_extension": ".py",
   "mimetype": "text/x-python",
   "name": "python",
   "nbconvert_exporter": "python",
   "pygments_lexer": "ipython3",
   "version": "3.11.5"
  }
 },
 "nbformat": 4,
 "nbformat_minor": 2
}
