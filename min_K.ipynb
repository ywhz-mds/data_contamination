{
 "cells": [
  {
   "cell_type": "code",
   "execution_count": 21,
   "metadata": {},
   "outputs": [],
   "source": [
    "##加载模型\n",
    "from transformers import AutoTokenizer, AutoModelForCausalLM\n",
    "import torch\n",
    "import torch.nn.functional as F\n",
    "import json\n",
    "import math\n",
    "tokenizer = AutoTokenizer.from_pretrained(\"detected_model\")\n",
    "model = AutoModelForCausalLM.from_pretrained(\"detected_model\", torch_dtype=torch.bfloat16)"
   ]
  },
  {
   "cell_type": "code",
   "execution_count": 22,
   "metadata": {},
   "outputs": [
    {
     "name": "stdout",
     "output_type": "stream",
     "text": [
      "loading from json...\n"
     ]
    }
   ],
   "source": [
    "#加载数据集\n",
    "import os\n",
    "os.environ['TOKENIZERS_PARALLELISM'] = \"True\"\n",
    "flatten = lambda l : [x for s in l for x in s]\n",
    "shuffle = lambda l : random.sample(l, k=len(l))\n",
    "data_path='dataset/valid.json'\n",
    "print(\"loading from json...\")\n",
    "with open(data_path, 'r') as f:\n",
    "    data = f.read()\n",
    "    lines=json.loads(data)\n",
    "sentences=[d['text'] for d in lines]"
   ]
  },
  {
   "cell_type": "markdown",
   "metadata": {},
   "source": [
    "使用min-K prob 方法 伪代码如下：\n",
    "1: Input: A sequence of tokens x = x1, x2, ..., xN , decision threshold ϵ\n",
    "2: Output: Membership of the sequence x\n",
    "3: for i = 1 to N do\n",
    "4: Compute − log p(xi|x1, . . . , xi−1)\n",
    "5: end for\n",
    "6: Select the top k% of tokens from x with the lowest probability and add to Min-k%(x)\n",
    "7: MIN-K% PROB(x) = P xi∈Min-k%(x) − log p(xi|x1, ..., xi−1)\n",
    "8: If MIN-K% PROB(x) > ϵ : return Non-member Else: return Member"
   ]
  },
  {
   "cell_type": "code",
   "execution_count": 83,
   "metadata": {},
   "outputs": [
    {
     "name": "stderr",
     "output_type": "stream",
     "text": [
      "100%|██████████| 860/860 [00:00<00:00, 61932.99it/s]\n"
     ]
    },
    {
     "name": "stdout",
     "output_type": "stream",
     "text": [
      "17.514509683675634\n"
     ]
    }
   ],
   "source": [
    "#min-k prob\n",
    "from tqdm import tqdm\n",
    "import numpy as np\n",
    "\n",
    "sum_min_k_prob=[]\n",
    "for j in range(len(sentences)):\n",
    "    sentence=sentences[j]\n",
    "\n",
    "    input_id=tokenizer.encode(sentence, return_tensors=\"pt\")\n",
    "\n",
    "    outputs = model.forward(input_ids=input_id)\n",
    "\n",
    "    logit = outputs.logits\n",
    "\n",
    "    prob = F.softmax(logit, dim=-1)\n",
    "\n",
    "    sum_prob=[]\n",
    "    for i in tqdm(range(1,len(prob[0]))):\n",
    "        p=prob[0,i,input_id[0,i]]\n",
    "        sum_prob.append(p)\n",
    "\n",
    "    sorted_prob=sorted(sum_prob)\n",
    "    k=9 #超参数\n",
    "    min_k=len(sentence)*k//100\n",
    "\n",
    "    selected_prob=sorted_prob[:min_k]\n",
    "\n",
    "    log_probs=[]\n",
    "\n",
    "    for i in range(len(selected_prob)):\n",
    "        log_probs.append(-1*math.log(selected_prob[i]))\n",
    "\n",
    "    min_k_prob=np.mean(log_probs)\n",
    "\n",
    "    sum_min_k_prob.append(min_k_prob)\n",
    "\n",
    "with open('sum_min_k_prob.json', 'w') as f:\n",
    "    json.dump(sum_min_k_prob, f)\n",
    "\n",
    "print(\"success!\")\n"
   ]
  }
 ],
 "metadata": {
  "kernelspec": {
   "display_name": "base",
   "language": "python",
   "name": "python3"
  },
  "language_info": {
   "codemirror_mode": {
    "name": "ipython",
    "version": 3
   },
   "file_extension": ".py",
   "mimetype": "text/x-python",
   "name": "python",
   "nbconvert_exporter": "python",
   "pygments_lexer": "ipython3",
   "version": "3.11.5"
  }
 },
 "nbformat": 4,
 "nbformat_minor": 2
}
